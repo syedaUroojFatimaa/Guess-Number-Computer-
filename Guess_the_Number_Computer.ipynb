{
  "nbformat": 4,
  "nbformat_minor": 0,
  "metadata": {
    "colab": {
      "provenance": [],
      "authorship_tag": "ABX9TyOrC0s4z5cU9WB+hGD9kYPi",
      "include_colab_link": true
    },
    "kernelspec": {
      "name": "python3",
      "display_name": "Python 3"
    },
    "language_info": {
      "name": "python"
    }
  },
  "cells": [
    {
      "cell_type": "markdown",
      "metadata": {
        "id": "view-in-github",
        "colab_type": "text"
      },
      "source": [
        "<a href=\"https://colab.research.google.com/github/syedaUroojFatimaa/Guess-Number-Computer-/blob/main/Guess_the_Number_Computer.ipynb\" target=\"_parent\"><img src=\"https://colab.research.google.com/assets/colab-badge.svg\" alt=\"Open In Colab\"/></a>"
      ]
    },
    {
      "cell_type": "code",
      "execution_count": 1,
      "metadata": {
        "colab": {
          "base_uri": "https://localhost:8080/"
        },
        "id": "94RnempZSUJb",
        "outputId": "6064b7df-9f9a-4e77-90e6-cca343c1b149"
      },
      "outputs": [
        {
          "output_type": "stream",
          "name": "stdout",
          "text": [
            "🎯 Welcome to the Guess the Number Game!\n",
            "I'm thinking of a number between 1 and 100.\n",
            "Enter your guess: 6\n",
            "🔼 Too low! Try again.\n",
            "Enter your guess: 70\n",
            "🔼 Too low! Try again.\n",
            "Enter your guess: 90\n",
            "🔽 Too high! Try again.\n",
            "Enter your guess: 80\n",
            "🔽 Too high! Try again.\n",
            "Enter your guess: 75\n",
            "🔼 Too low! Try again.\n",
            "Enter your guess: 78\n",
            "🎉 Congratulations! You guessed it in 6 attempts.\n"
          ]
        }
      ],
      "source": [
        "import random\n",
        "\n",
        "def guess_the_number():\n",
        "    \"\"\"A simple Guess the Number game in Google Colab.\"\"\"\n",
        "    print(\"🎯 Welcome to the Guess the Number Game!\")\n",
        "    print(\"I'm thinking of a number between 1 and 100.\")\n",
        "\n",
        "    secret_number = random.randint(1, 100)\n",
        "    attempts = 0\n",
        "\n",
        "    while True:\n",
        "        try:\n",
        "            guess = int(input(\"Enter your guess: \"))  # Get user input\n",
        "            attempts += 1\n",
        "\n",
        "            if guess < 1 or guess > 100:\n",
        "                print(\"⚠️ Please enter a number between 1 and 100.\")\n",
        "                continue\n",
        "\n",
        "            if guess < secret_number:\n",
        "                print(\"🔼 Too low! Try again.\")\n",
        "            elif guess > secret_number:\n",
        "                print(\"🔽 Too high! Try again.\")\n",
        "            else:\n",
        "                print(f\"🎉 Congratulations! You guessed it in {attempts} attempts.\")\n",
        "                break  # Exit loop when guessed correctly\n",
        "        except ValueError:\n",
        "            print(\"❌ Invalid input! Please enter a number.\")\n",
        "\n",
        "# Run the game\n",
        "guess_the_number()\n"
      ]
    }
  ]
}